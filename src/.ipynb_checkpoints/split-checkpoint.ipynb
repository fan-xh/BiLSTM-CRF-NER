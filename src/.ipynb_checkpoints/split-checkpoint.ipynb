{
 "cells": [
  {
   "cell_type": "code",
   "execution_count": null,
   "id": "91926af1",
   "metadata": {},
   "outputs": [],
   "source": [
    "# 读取文本文件内容\n",
    "with open('label/fxh/text_labeled.txt', 'r', encoding='utf-8') as txt_file:\n",
    "    lines = txt_file.readlines()\n",
    "\n",
    "# 处理内容，将只包含空格和\"O\"的行清空\n",
    "processed_lines = []\n",
    "for line in lines:\n",
    "    if line.strip() == 'O':\n",
    "        processed_lines.append('\\n')  # 添加一个换行符，否则报错\n",
    "    else:\n",
    "        processed_lines.append(line)\n",
    "\n",
    "# 将处理后的内容写回到文件\n",
    "with open('process.txt', 'w', encoding='utf-8') as txt_file:\n",
    "    txt_file.writelines(processed_lines)\n"
   ]
  },
  {
   "cell_type": "code",
   "execution_count": 10,
   "id": "818e8395",
   "metadata": {},
   "outputs": [],
   "source": [
    "# 读取文本文件内容\n",
    "with open('process.txt', 'r', encoding='utf-8') as txt_file:\n",
    "    lines = txt_file.readlines()\n",
    "\n",
    "# 定义划分比例\n",
    "train_ratio = 0.8\n",
    "eval_ratio = 0.1\n",
    "test_ratio = 0.1\n",
    "\n",
    "# 计算划分后的行数\n",
    "total_lines = len(lines)\n",
    "train_lines = int(total_lines * train_ratio)\n",
    "eval_lines = int(total_lines * eval_ratio)\n",
    "\n",
    "# 划分文本行\n",
    "train_data = lines[:train_lines]\n",
    "eval_data = lines[train_lines:train_lines + eval_lines]\n",
    "test_data = lines[train_lines + eval_lines:]\n",
    "\n",
    "# 将划分后的数据写入不同的文本文件\n",
    "with open('train.txt', 'w', encoding='utf-8') as train_file:\n",
    "    train_file.writelines(train_data)\n",
    "\n",
    "with open('eval.txt', 'w', encoding='utf-8') as eval_file:\n",
    "    eval_file.writelines(eval_data)\n",
    "\n",
    "with open('test.txt', 'w', encoding='utf-8') as test_file:\n",
    "    test_file.writelines(test_data)\n"
   ]
  }
 ],
 "metadata": {
  "kernelspec": {
   "display_name": "nlp",
   "language": "python",
   "name": "nlp"
  },
  "language_info": {
   "codemirror_mode": {
    "name": "ipython",
    "version": 3
   },
   "file_extension": ".py",
   "mimetype": "text/x-python",
   "name": "python",
   "nbconvert_exporter": "python",
   "pygments_lexer": "ipython3",
   "version": "3.7.0"
  }
 },
 "nbformat": 4,
 "nbformat_minor": 5
}
